{
 "cells": [
  {
   "cell_type": "code",
   "id": "1a111b209c9c3761",
   "metadata": {},
   "source": [
    "from dask_jobqueue import SLURMCluster\n",
    "from dask.distributed import Client\n",
    "from dask import array as da\n",
    "import numpy as np\n",
    "from scipy import ndimage\n",
    "import os\n",
    "import time"
   ],
   "execution_count": null,
   "outputs": []
  },
  {
   "metadata": {},
   "cell_type": "code",
   "outputs": [],
   "execution_count": 1,
   "source": [
    "def process_with_retry(client, dask_data, save_path, max_retries=3):\n",
    "    for attempt in range(max_retries):\n",
    "        try:\n",
    "            # Check if we still have workers\n",
    "            if len(client.scheduler_info()['workers']) == 0:\n",
    "                print(\"No workers available, waiting...\")\n",
    "                client.wait_for_workers(1, timeout=300)\n",
    "\n",
    "            # Process the data\n",
    "            high_pass_filtered = dask_data.map_overlap(\n",
    "                ndimage.gaussian_filter, sigma=3, order=0, mode=\"nearest\", depth=40)\n",
    "\n",
    "            low_pass_filtered = dask_data.map_overlap(\n",
    "                ndimage.gaussian_filter, sigma=10, order=0, mode=\"nearest\", depth=40)\n",
    "\n",
    "            dog_filtered = da.map_blocks(\n",
    "                np.subtract, high_pass_filtered, low_pass_filtered)\n",
    "\n",
    "            # Save with progress monitoring\n",
    "            future = client.compute(dog_filtered.to_zarr(save_path, overwrite=True))\n",
    "            _ = client.gather(future)\n",
    "\n",
    "            print(\"Filtering complete and saved to Zarr file.\")\n",
    "            return True\n",
    "\n",
    "        except Exception as e:\n",
    "            print(f\"Attempt {attempt + 1} failed: {e}\")\n",
    "            if attempt < max_retries - 1:\n",
    "                print(\"Retrying in 30 seconds...\")\n",
    "                time.sleep(30)\n",
    "            else:\n",
    "                print(\"All retry attempts failed\")\n",
    "                raise\n",
    "\n",
    "    return False"
   ],
   "id": "e4472e185e3970ce"
  },
  {
   "metadata": {
    "ExecuteTime": {
     "end_time": "2025-08-01T01:06:57.377228Z",
     "start_time": "2025-08-01T01:06:57.370560Z"
    }
   },
   "cell_type": "code",
   "source": [
    "local_directory=\"/project/bioinformatics/Danuser_lab/Dean/dean/dask_temp/\"\n",
    "os.makedirs(local_directory, exist_ok=True)"
   ],
   "id": "d403376cb17050e9",
   "outputs": [],
   "execution_count": 7
  },
  {
   "metadata": {
    "jupyter": {
     "is_executing": true
    },
    "ExecuteTime": {
     "start_time": "2025-08-01T01:07:10.389649Z"
    }
   },
   "cell_type": "code",
   "source": [
    "cluster_kwargs = {\n",
    "    'cores': 40, # Number of threads per worker (utilizing cores within each process)\n",
    "    'processes': 1, # Number of Python processes/worker.\n",
    "    'memory': '220GB',\n",
    "    'local_directory': local_directory,\n",
    "    'interface': 'ib0',\n",
    "    'walltime': \"36:00:00\",\n",
    "    'job_name': \"multinode_warp\",\n",
    "    'queue': \"256GB\",\n",
    "    'death_timeout': \"600s\",\n",
    "    'job_extra_directives': [\n",
    "        \"--nodes=1\",\n",
    "        \"--ntasks=1\",\n",
    "        \"--mail-type=FAIL\",\n",
    "        \"--mail-user=kevin.dean@utsouthwestern.edu\",\n",
    "        \"-o job_%j.out\",\n",
    "        \"-e job_%j.err\",\n",
    "    ],\n",
    "    'scheduler_options': {\n",
    "        \"dashboard_address\": \":8788\",\n",
    "        \"heartbeat-interval\": \"5s\",\n",
    "        \"worker-timeout\": \"120s\",\n",
    "    },\n",
    "    'extra': ['--tcp-timeout=30s', '--worker-heartbeat-timeout=120s']\n",
    "}\n",
    "\n",
    "cluster = SLURMCluster(**cluster_kwargs)\n",
    "cluster.scale(4)\n",
    "client = Client(cluster)\n",
    "\n",
    "# Location of the data.\n",
    "base_path = \"/archive/bioinformatics/Danuser_lab/Dean/dean/2024-05-21-tiling\"\n",
    "data_path = os.path.join(base_path, \"cell5_fused_tp_0_ch_0.zarr\")\n",
    "save_path = os.path.join(base_path, 'example_4.zarr')\n",
    "\n",
    "# Load the Zarr file with Dask\n",
    "dask_data = da.from_zarr(data_path, component='0/0')\n",
    "data_shape = dask_data.shape\n",
    "\n",
    "# Eliminate singleton dimensions, and rechunk the data.\n",
    "dask_data = dask_data.squeeze()\n",
    "dask_data = dask_data.rechunk((32, 64, 64))\n",
    "\n",
    "# Process the data with retries\n",
    "process_with_retry(client, dask_data, save_path)\n",
    "\n",
    "# Close the client and cluster\n",
    "client.close()\n",
    "cluster.close()\n",
    "print(\"Client and cluster closed.\")"
   ],
   "id": "d07b778ff9f50579",
   "outputs": [],
   "execution_count": null
  },
  {
   "metadata": {},
   "cell_type": "code",
   "outputs": [],
   "execution_count": null,
   "source": [
    "# ssh -N -L 8788:localhost:8788 your-cluster-login\n",
    "\n",
    "        # \"dashboard\": {\n",
    "        #     \"session_token_expiration\": 3600,\n",
    "        #     \"dashboard_address\": \":8788\",\n",
    "        #     \"host\": \"10.100.161.251\",\n",
    "        # }"
   ],
   "id": "1a7d237f6be8e0b2"
  }
 ],
 "metadata": {
  "kernelspec": {
   "display_name": "Python 3",
   "language": "python",
   "name": "python3"
  },
  "language_info": {
   "codemirror_mode": {
    "name": "ipython",
    "version": 2
   },
   "file_extension": ".py",
   "mimetype": "text/x-python",
   "name": "python",
   "nbconvert_exporter": "python",
   "pygments_lexer": "ipython2",
   "version": "2.7.6"
  }
 },
 "nbformat": 4,
 "nbformat_minor": 5
}

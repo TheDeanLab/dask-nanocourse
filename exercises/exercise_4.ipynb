{
 "cells": [
  {
   "cell_type": "code",
   "id": "1a111b209c9c3761",
   "metadata": {
    "ExecuteTime": {
     "end_time": "2025-08-02T22:31:01.534121Z",
     "start_time": "2025-08-02T22:30:45.649782Z"
    }
   },
   "source": [
    "from dask_jobqueue import SLURMCluster\n",
    "from dask.distributed import Client\n",
    "from dask import array as da\n",
    "import numpy as np\n",
    "from scipy import ndimage\n",
    "import os\n",
    "import time"
   ],
   "outputs": [],
   "execution_count": 1
  },
  {
   "metadata": {
    "ExecuteTime": {
     "end_time": "2025-08-02T22:31:23.177645Z",
     "start_time": "2025-08-02T22:31:23.159860Z"
    }
   },
   "cell_type": "code",
   "source": [
    "def process_with_retry(client, dask_data, save_path, max_retries=3):\n",
    "    for attempt in range(max_retries):\n",
    "        try:\n",
    "            # Check if we still have workers\n",
    "            if len(client.scheduler_info()['workers']) == 0:\n",
    "                print(\"No workers available, waiting for 30 seconds...\")\n",
    "                client.wait_for_workers(1, timeout=30)\n",
    "\n",
    "            print(\"Workers detected. Proceeding...\")\n",
    "\n",
    "            # Process the data\n",
    "            high_pass_filtered = dask_data.map_overlap(\n",
    "                ndimage.gaussian_filter, sigma=3, order=0, mode=\"nearest\", depth=40)\n",
    "\n",
    "            low_pass_filtered = dask_data.map_overlap(\n",
    "                ndimage.gaussian_filter, sigma=10, order=0, mode=\"nearest\", depth=40)\n",
    "\n",
    "            dog_filtered = da.map_blocks(\n",
    "                np.subtract, high_pass_filtered, low_pass_filtered)\n",
    "\n",
    "            # Save with progress monitoring\n",
    "            future = client.compute(dog_filtered.to_zarr(save_path, overwrite=True))\n",
    "            _ = client.gather(future)\n",
    "\n",
    "            print(\"Filtering complete and saved to Zarr file.\")\n",
    "            return True\n",
    "\n",
    "        except Exception as e:\n",
    "            print(f\"Attempt {attempt + 1} failed: {e}\")\n",
    "            if attempt < max_retries - 1:\n",
    "                print(\"Retrying in 30 seconds...\")\n",
    "                time.sleep(30)\n",
    "            else:\n",
    "                print(\"All retry attempts failed\")\n",
    "                raise\n",
    "\n",
    "    return False"
   ],
   "id": "e4472e185e3970ce",
   "outputs": [],
   "execution_count": 2
  },
  {
   "metadata": {
    "ExecuteTime": {
     "end_time": "2025-08-02T22:41:29.124098Z",
     "start_time": "2025-08-02T22:41:29.109377Z"
    }
   },
   "cell_type": "code",
   "source": [
    "import subprocess\n",
    "result = subprocess.run(\"umask\", shell=True, capture_output=True, text=True)\n",
    "print(\"Subprocess umask:\", result.stdout.strip())"
   ],
   "id": "f8184c1899c55e94",
   "outputs": [
    {
     "name": "stdout",
     "output_type": "stream",
     "text": [
      "Subprocess umask: 0022\n"
     ]
    }
   ],
   "execution_count": 7
  },
  {
   "metadata": {
    "ExecuteTime": {
     "end_time": "2025-08-02T22:46:31.134366Z",
     "start_time": "2025-08-02T22:46:31.106934Z"
    }
   },
   "cell_type": "code",
   "source": [
    "\n",
    "# Usage\n",
    "local_directory=\"/project/bioinformatics/Danuser_lab/Dean/dean/dask_temp\"\n",
    "subprocess.run(f\"mkdir -p {local_directory} && chmod -R 777 {local_directory}\", shell=True)\n"
   ],
   "id": "d403376cb17050e9",
   "outputs": [
    {
     "data": {
      "text/plain": [
       "CompletedProcess(args='mkdir -p /project/bioinformatics/Danuser_lab/Dean/dean/dask_temp && chmod -R 777 /project/bioinformatics/Danuser_lab/Dean/dean/dask_temp', returncode=0)"
      ]
     },
     "execution_count": 8,
     "metadata": {},
     "output_type": "execute_result"
    }
   ],
   "execution_count": 8
  },
  {
   "metadata": {
    "ExecuteTime": {
     "end_time": "2025-08-02T22:46:59.931676Z",
     "start_time": "2025-08-02T22:46:51.489256Z"
    }
   },
   "cell_type": "code",
   "source": [
    "cluster_kwargs = {\n",
    "    'cores': 40, # Number of threads per worker (utilizing cores within each process)\n",
    "    'processes': 1, # Number of Python processes/worker.\n",
    "    'memory': '220GB',\n",
    "    'local_directory': local_directory,\n",
    "    'interface': 'ib0',\n",
    "    'walltime': \"36:00:00\",\n",
    "    'job_name': \"multinode_warp\",\n",
    "    'queue': \"256GB\",\n",
    "    'death_timeout': \"600s\",\n",
    "    'job_extra_directives': [\n",
    "        \"--nodes=1\",\n",
    "        \"--ntasks=1\",\n",
    "        \"--mail-type=FAIL\",\n",
    "        \"--mail-user=kevin.dean@utsouthwestern.edu\",\n",
    "        \"-o job_%j.out\",\n",
    "        \"-e job_%j.err\",\n",
    "    ],\n",
    "    'scheduler_options': {\n",
    "        \"dashboard_address\": \":8788\",\n",
    "        # \"heartbeat-interval\": \"5s\",\n",
    "        # \"worker-timeout\": \"120s\",\n",
    "    },\n",
    "    'worker_extra_args': ['--tcp-timeout=30s', '--worker-heartbeat-timeout=120s']\n",
    "}\n",
    "\n",
    "cluster = SLURMCluster(**cluster_kwargs)\n",
    "cluster.scale(4)\n",
    "client = Client(cluster)"
   ],
   "id": "408949e108bfa50",
   "outputs": [
    {
     "name": "stderr",
     "output_type": "stream",
     "text": [
      "/project/bioinformatics/Danuser_lab/Dean/dean/miniconda3/envs/dask-nanocourse/lib/python3.10/site-packages/distributed/node.py:187: UserWarning: Port 8788 is already in use.\n",
      "Perhaps you already have a cluster running?\n",
      "Hosting the HTTP server on port 41517 instead\n",
      "  warnings.warn(\n"
     ]
    }
   ],
   "execution_count": 9
  },
  {
   "metadata": {
    "ExecuteTime": {
     "end_time": "2025-08-02T22:49:34.913225Z",
     "start_time": "2025-08-02T22:46:59.947789Z"
    }
   },
   "cell_type": "code",
   "source": [
    "# Location of the data.\n",
    "base_path = \"/archive/bioinformatics/Danuser_lab/Dean/dean/2024-05-21-tiling\"\n",
    "data_path = os.path.join(base_path, \"cell5_fused_tp_0_ch_0.zarr\")\n",
    "save_path = os.path.join(base_path, 'example_4.zarr')\n",
    "\n",
    "# Load the Zarr file with Dask\n",
    "dask_data = da.from_zarr(data_path, component='0/0')\n",
    "data_shape = dask_data.shape\n",
    "\n",
    "# Eliminate singleton dimensions, and rechunk the data.\n",
    "dask_data = dask_data.squeeze()\n",
    "dask_data = dask_data.rechunk((32, 64, 64))\n",
    "\n",
    "# Process the data with retries\n",
    "process_with_retry(client, dask_data, save_path)\n",
    "\n",
    "# Close the client and cluster\n",
    "client.close()\n",
    "cluster.close()\n",
    "print(\"Client and cluster closed.\")"
   ],
   "id": "d07b778ff9f50579",
   "outputs": [
    {
     "name": "stdout",
     "output_type": "stream",
     "text": [
      "No workers available, waiting for 30 seconds...\n",
      "Attempt 1 failed: Only 0/1 workers arrived after 30\n",
      "Retrying in 30 seconds...\n",
      "No workers available, waiting for 30 seconds...\n",
      "Attempt 2 failed: Only 0/1 workers arrived after 30\n",
      "Retrying in 30 seconds...\n",
      "No workers available, waiting for 30 seconds...\n",
      "Attempt 3 failed: Only 0/1 workers arrived after 30\n",
      "All retry attempts failed\n"
     ]
    },
    {
     "ename": "TimeoutError",
     "evalue": "Only 0/1 workers arrived after 30",
     "output_type": "error",
     "traceback": [
      "\u001B[0;31m---------------------------------------------------------------------------\u001B[0m",
      "\u001B[0;31mTimeoutError\u001B[0m                              Traceback (most recent call last)",
      "Cell \u001B[0;32mIn[10], line 15\u001B[0m\n\u001B[1;32m     12\u001B[0m dask_data \u001B[38;5;241m=\u001B[39m dask_data\u001B[38;5;241m.\u001B[39mrechunk((\u001B[38;5;241m32\u001B[39m, \u001B[38;5;241m64\u001B[39m, \u001B[38;5;241m64\u001B[39m))\n\u001B[1;32m     14\u001B[0m \u001B[38;5;66;03m# Process the data with retries\u001B[39;00m\n\u001B[0;32m---> 15\u001B[0m \u001B[43mprocess_with_retry\u001B[49m\u001B[43m(\u001B[49m\u001B[43mclient\u001B[49m\u001B[43m,\u001B[49m\u001B[43m \u001B[49m\u001B[43mdask_data\u001B[49m\u001B[43m,\u001B[49m\u001B[43m \u001B[49m\u001B[43msave_path\u001B[49m\u001B[43m)\u001B[49m\n\u001B[1;32m     17\u001B[0m \u001B[38;5;66;03m# Close the client and cluster\u001B[39;00m\n\u001B[1;32m     18\u001B[0m client\u001B[38;5;241m.\u001B[39mclose()\n",
      "Cell \u001B[0;32mIn[2], line 7\u001B[0m, in \u001B[0;36mprocess_with_retry\u001B[0;34m(client, dask_data, save_path, max_retries)\u001B[0m\n\u001B[1;32m      5\u001B[0m \u001B[38;5;28;01mif\u001B[39;00m \u001B[38;5;28mlen\u001B[39m(client\u001B[38;5;241m.\u001B[39mscheduler_info()[\u001B[38;5;124m'\u001B[39m\u001B[38;5;124mworkers\u001B[39m\u001B[38;5;124m'\u001B[39m]) \u001B[38;5;241m==\u001B[39m \u001B[38;5;241m0\u001B[39m:\n\u001B[1;32m      6\u001B[0m     \u001B[38;5;28mprint\u001B[39m(\u001B[38;5;124m\"\u001B[39m\u001B[38;5;124mNo workers available, waiting for 30 seconds...\u001B[39m\u001B[38;5;124m\"\u001B[39m)\n\u001B[0;32m----> 7\u001B[0m     \u001B[43mclient\u001B[49m\u001B[38;5;241;43m.\u001B[39;49m\u001B[43mwait_for_workers\u001B[49m\u001B[43m(\u001B[49m\u001B[38;5;241;43m1\u001B[39;49m\u001B[43m,\u001B[49m\u001B[43m \u001B[49m\u001B[43mtimeout\u001B[49m\u001B[38;5;241;43m=\u001B[39;49m\u001B[38;5;241;43m30\u001B[39;49m\u001B[43m)\u001B[49m\n\u001B[1;32m      9\u001B[0m \u001B[38;5;28mprint\u001B[39m(\u001B[38;5;124m\"\u001B[39m\u001B[38;5;124mWorkers detected. Proceeding...\u001B[39m\u001B[38;5;124m\"\u001B[39m)\n\u001B[1;32m     11\u001B[0m \u001B[38;5;66;03m# Process the data\u001B[39;00m\n",
      "File \u001B[0;32m/project/bioinformatics/Danuser_lab/Dean/dean/miniconda3/envs/dask-nanocourse/lib/python3.10/site-packages/distributed/client.py:1659\u001B[0m, in \u001B[0;36mClient.wait_for_workers\u001B[0;34m(self, n_workers, timeout)\u001B[0m\n\u001B[1;32m   1654\u001B[0m     \u001B[38;5;28;01mraise\u001B[39;00m \u001B[38;5;167;01mValueError\u001B[39;00m(\n\u001B[1;32m   1655\u001B[0m         \u001B[38;5;124mf\u001B[39m\u001B[38;5;124m\"\u001B[39m\u001B[38;5;124m`n_workers` must be a positive integer. Instead got \u001B[39m\u001B[38;5;132;01m{\u001B[39;00mn_workers\u001B[38;5;132;01m}\u001B[39;00m\u001B[38;5;124m.\u001B[39m\u001B[38;5;124m\"\u001B[39m\n\u001B[1;32m   1656\u001B[0m     )\n\u001B[1;32m   1658\u001B[0m \u001B[38;5;28;01mif\u001B[39;00m \u001B[38;5;28mself\u001B[39m\u001B[38;5;241m.\u001B[39mcluster \u001B[38;5;129;01mand\u001B[39;00m \u001B[38;5;28mhasattr\u001B[39m(\u001B[38;5;28mself\u001B[39m\u001B[38;5;241m.\u001B[39mcluster, \u001B[38;5;124m\"\u001B[39m\u001B[38;5;124mwait_for_workers\u001B[39m\u001B[38;5;124m\"\u001B[39m):\n\u001B[0;32m-> 1659\u001B[0m     \u001B[38;5;28;01mreturn\u001B[39;00m \u001B[38;5;28;43mself\u001B[39;49m\u001B[38;5;241;43m.\u001B[39;49m\u001B[43mcluster\u001B[49m\u001B[38;5;241;43m.\u001B[39;49m\u001B[43mwait_for_workers\u001B[49m\u001B[43m(\u001B[49m\u001B[43mn_workers\u001B[49m\u001B[43m,\u001B[49m\u001B[43m \u001B[49m\u001B[43mtimeout\u001B[49m\u001B[43m)\u001B[49m\n\u001B[1;32m   1661\u001B[0m \u001B[38;5;28;01mreturn\u001B[39;00m \u001B[38;5;28mself\u001B[39m\u001B[38;5;241m.\u001B[39msync(\u001B[38;5;28mself\u001B[39m\u001B[38;5;241m.\u001B[39m_wait_for_workers, n_workers, timeout\u001B[38;5;241m=\u001B[39mtimeout)\n",
      "File \u001B[0;32m/project/bioinformatics/Danuser_lab/Dean/dean/miniconda3/envs/dask-nanocourse/lib/python3.10/site-packages/distributed/deploy/cluster.py:636\u001B[0m, in \u001B[0;36mCluster.wait_for_workers\u001B[0;34m(self, n_workers, timeout)\u001B[0m\n\u001B[1;32m    632\u001B[0m \u001B[38;5;28;01mif\u001B[39;00m \u001B[38;5;129;01mnot\u001B[39;00m \u001B[38;5;28misinstance\u001B[39m(n_workers, \u001B[38;5;28mint\u001B[39m) \u001B[38;5;129;01mor\u001B[39;00m n_workers \u001B[38;5;241m<\u001B[39m \u001B[38;5;241m1\u001B[39m:\n\u001B[1;32m    633\u001B[0m     \u001B[38;5;28;01mraise\u001B[39;00m \u001B[38;5;167;01mValueError\u001B[39;00m(\n\u001B[1;32m    634\u001B[0m         \u001B[38;5;124mf\u001B[39m\u001B[38;5;124m\"\u001B[39m\u001B[38;5;124m`n_workers` must be a positive integer. Instead got \u001B[39m\u001B[38;5;132;01m{\u001B[39;00mn_workers\u001B[38;5;132;01m}\u001B[39;00m\u001B[38;5;124m.\u001B[39m\u001B[38;5;124m\"\u001B[39m\n\u001B[1;32m    635\u001B[0m     )\n\u001B[0;32m--> 636\u001B[0m \u001B[38;5;28;01mreturn\u001B[39;00m \u001B[38;5;28;43mself\u001B[39;49m\u001B[38;5;241;43m.\u001B[39;49m\u001B[43msync\u001B[49m\u001B[43m(\u001B[49m\u001B[38;5;28;43mself\u001B[39;49m\u001B[38;5;241;43m.\u001B[39;49m\u001B[43m_wait_for_workers\u001B[49m\u001B[43m,\u001B[49m\u001B[43m \u001B[49m\u001B[43mn_workers\u001B[49m\u001B[43m,\u001B[49m\u001B[43m \u001B[49m\u001B[43mtimeout\u001B[49m\u001B[38;5;241;43m=\u001B[39;49m\u001B[43mtimeout\u001B[49m\u001B[43m)\u001B[49m\n",
      "File \u001B[0;32m/project/bioinformatics/Danuser_lab/Dean/dean/miniconda3/envs/dask-nanocourse/lib/python3.10/site-packages/distributed/utils.py:376\u001B[0m, in \u001B[0;36mSyncMethodMixin.sync\u001B[0;34m(self, func, asynchronous, callback_timeout, *args, **kwargs)\u001B[0m\n\u001B[1;32m    374\u001B[0m     \u001B[38;5;28;01mreturn\u001B[39;00m future\n\u001B[1;32m    375\u001B[0m \u001B[38;5;28;01melse\u001B[39;00m:\n\u001B[0;32m--> 376\u001B[0m     \u001B[38;5;28;01mreturn\u001B[39;00m \u001B[43msync\u001B[49m\u001B[43m(\u001B[49m\n\u001B[1;32m    377\u001B[0m \u001B[43m        \u001B[49m\u001B[38;5;28;43mself\u001B[39;49m\u001B[38;5;241;43m.\u001B[39;49m\u001B[43mloop\u001B[49m\u001B[43m,\u001B[49m\u001B[43m \u001B[49m\u001B[43mfunc\u001B[49m\u001B[43m,\u001B[49m\u001B[43m \u001B[49m\u001B[38;5;241;43m*\u001B[39;49m\u001B[43margs\u001B[49m\u001B[43m,\u001B[49m\u001B[43m \u001B[49m\u001B[43mcallback_timeout\u001B[49m\u001B[38;5;241;43m=\u001B[39;49m\u001B[43mcallback_timeout\u001B[49m\u001B[43m,\u001B[49m\u001B[43m \u001B[49m\u001B[38;5;241;43m*\u001B[39;49m\u001B[38;5;241;43m*\u001B[39;49m\u001B[43mkwargs\u001B[49m\n\u001B[1;32m    378\u001B[0m \u001B[43m    \u001B[49m\u001B[43m)\u001B[49m\n",
      "File \u001B[0;32m/project/bioinformatics/Danuser_lab/Dean/dean/miniconda3/envs/dask-nanocourse/lib/python3.10/site-packages/distributed/utils.py:452\u001B[0m, in \u001B[0;36msync\u001B[0;34m(loop, func, callback_timeout, *args, **kwargs)\u001B[0m\n\u001B[1;32m    449\u001B[0m         wait(\u001B[38;5;241m10\u001B[39m)\n\u001B[1;32m    451\u001B[0m \u001B[38;5;28;01mif\u001B[39;00m error \u001B[38;5;129;01mis\u001B[39;00m \u001B[38;5;129;01mnot\u001B[39;00m \u001B[38;5;28;01mNone\u001B[39;00m:\n\u001B[0;32m--> 452\u001B[0m     \u001B[38;5;28;01mraise\u001B[39;00m error\n\u001B[1;32m    453\u001B[0m \u001B[38;5;28;01melse\u001B[39;00m:\n\u001B[1;32m    454\u001B[0m     \u001B[38;5;28;01mreturn\u001B[39;00m result\n",
      "File \u001B[0;32m/project/bioinformatics/Danuser_lab/Dean/dean/miniconda3/envs/dask-nanocourse/lib/python3.10/site-packages/distributed/utils.py:426\u001B[0m, in \u001B[0;36msync.<locals>.f\u001B[0;34m()\u001B[0m\n\u001B[1;32m    424\u001B[0m         awaitable \u001B[38;5;241m=\u001B[39m wait_for(awaitable, timeout)\n\u001B[1;32m    425\u001B[0m     future \u001B[38;5;241m=\u001B[39m asyncio\u001B[38;5;241m.\u001B[39mensure_future(awaitable)\n\u001B[0;32m--> 426\u001B[0m     result \u001B[38;5;241m=\u001B[39m \u001B[38;5;28;01myield\u001B[39;00m future\n\u001B[1;32m    427\u001B[0m \u001B[38;5;28;01mexcept\u001B[39;00m \u001B[38;5;167;01mException\u001B[39;00m \u001B[38;5;28;01mas\u001B[39;00m exception:\n\u001B[1;32m    428\u001B[0m     error \u001B[38;5;241m=\u001B[39m exception\n",
      "File \u001B[0;32m/project/bioinformatics/Danuser_lab/Dean/dean/miniconda3/envs/dask-nanocourse/lib/python3.10/site-packages/tornado/gen.py:769\u001B[0m, in \u001B[0;36mRunner.run\u001B[0;34m(self)\u001B[0m\n\u001B[1;32m    767\u001B[0m \u001B[38;5;28;01mtry\u001B[39;00m:\n\u001B[1;32m    768\u001B[0m     \u001B[38;5;28;01mtry\u001B[39;00m:\n\u001B[0;32m--> 769\u001B[0m         value \u001B[38;5;241m=\u001B[39m \u001B[43mfuture\u001B[49m\u001B[38;5;241;43m.\u001B[39;49m\u001B[43mresult\u001B[49m\u001B[43m(\u001B[49m\u001B[43m)\u001B[49m\n\u001B[1;32m    770\u001B[0m     \u001B[38;5;28;01mexcept\u001B[39;00m \u001B[38;5;167;01mException\u001B[39;00m \u001B[38;5;28;01mas\u001B[39;00m e:\n\u001B[1;32m    771\u001B[0m         \u001B[38;5;66;03m# Save the exception for later. It's important that\u001B[39;00m\n\u001B[1;32m    772\u001B[0m         \u001B[38;5;66;03m# gen.throw() not be called inside this try/except block\u001B[39;00m\n\u001B[1;32m    773\u001B[0m         \u001B[38;5;66;03m# because that makes sys.exc_info behave unexpectedly.\u001B[39;00m\n\u001B[1;32m    774\u001B[0m         exc: Optional[\u001B[38;5;167;01mException\u001B[39;00m] \u001B[38;5;241m=\u001B[39m e\n",
      "File \u001B[0;32m/project/bioinformatics/Danuser_lab/Dean/dean/miniconda3/envs/dask-nanocourse/lib/python3.10/site-packages/distributed/deploy/cluster.py:613\u001B[0m, in \u001B[0;36mCluster._wait_for_workers\u001B[0;34m(self, n_workers, timeout)\u001B[0m\n\u001B[1;32m    611\u001B[0m \u001B[38;5;28;01mwhile\u001B[39;00m n_workers \u001B[38;5;129;01mand\u001B[39;00m running_workers(\u001B[38;5;28mself\u001B[39m\u001B[38;5;241m.\u001B[39mscheduler_info) \u001B[38;5;241m<\u001B[39m n_workers:\n\u001B[1;32m    612\u001B[0m     \u001B[38;5;28;01mif\u001B[39;00m deadline \u001B[38;5;129;01mand\u001B[39;00m time() \u001B[38;5;241m>\u001B[39m deadline:\n\u001B[0;32m--> 613\u001B[0m         \u001B[38;5;28;01mraise\u001B[39;00m \u001B[38;5;167;01mTimeoutError\u001B[39;00m(\n\u001B[1;32m    614\u001B[0m             \u001B[38;5;124m\"\u001B[39m\u001B[38;5;124mOnly \u001B[39m\u001B[38;5;132;01m%d\u001B[39;00m\u001B[38;5;124m/\u001B[39m\u001B[38;5;132;01m%d\u001B[39;00m\u001B[38;5;124m workers arrived after \u001B[39m\u001B[38;5;132;01m%s\u001B[39;00m\u001B[38;5;124m\"\u001B[39m\n\u001B[1;32m    615\u001B[0m             \u001B[38;5;241m%\u001B[39m (running_workers(\u001B[38;5;28mself\u001B[39m\u001B[38;5;241m.\u001B[39mscheduler_info), n_workers, timeout)\n\u001B[1;32m    616\u001B[0m         )\n\u001B[1;32m    617\u001B[0m     \u001B[38;5;28;01mawait\u001B[39;00m asyncio\u001B[38;5;241m.\u001B[39msleep(\u001B[38;5;241m0.1\u001B[39m)\n\u001B[1;32m    619\u001B[0m     \u001B[38;5;28mself\u001B[39m\u001B[38;5;241m.\u001B[39mscheduler_info \u001B[38;5;241m=\u001B[39m SchedulerInfo(\u001B[38;5;28;01mawait\u001B[39;00m \u001B[38;5;28mself\u001B[39m\u001B[38;5;241m.\u001B[39mscheduler_comm\u001B[38;5;241m.\u001B[39midentity())\n",
      "\u001B[0;31mTimeoutError\u001B[0m: Only 0/1 workers arrived after 30"
     ]
    }
   ],
   "execution_count": 10
  },
  {
   "metadata": {},
   "cell_type": "code",
   "outputs": [],
   "execution_count": null,
   "source": [
    "# ssh -N -L 8788:localhost:8788 your-cluster-login\n",
    "\n",
    "        # \"dashboard\": {\n",
    "        #     \"session_token_expiration\": 3600,\n",
    "        #     \"dashboard_address\": \":8788\",\n",
    "        #     \"host\": \"10.100.161.251\",\n",
    "        # }"
   ],
   "id": "1a7d237f6be8e0b2"
  }
 ],
 "metadata": {
  "kernelspec": {
   "display_name": "Python 3",
   "language": "python",
   "name": "python3"
  },
  "language_info": {
   "codemirror_mode": {
    "name": "ipython",
    "version": 2
   },
   "file_extension": ".py",
   "mimetype": "text/x-python",
   "name": "python",
   "nbconvert_exporter": "python",
   "pygments_lexer": "ipython2",
   "version": "2.7.6"
  }
 },
 "nbformat": 4,
 "nbformat_minor": 5
}

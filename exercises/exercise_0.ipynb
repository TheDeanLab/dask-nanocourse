{
 "cells": [
  {
   "metadata": {},
   "cell_type": "markdown",
   "source": "## Minimal Code Changes: NumPy vs Dask Array",
   "id": "b466a9f74f7ea73a"
  },
  {
   "cell_type": "code",
   "id": "9cbe8cb966173088",
   "metadata": {
    "ExecuteTime": {
     "end_time": "2025-07-22T11:53:45.850713Z",
     "start_time": "2025-07-22T11:53:45.595080Z"
    }
   },
   "source": [
    "import numpy as np\n",
    "arr = np.random.rand(10000, 10000)  # large array\n",
    "result = np.mean(arr, axis=0)\n",
    "print(\"The result is computed using NumPy:\", result)"
   ],
   "outputs": [
    {
     "name": "stdout",
     "output_type": "stream",
     "text": [
      "The result is computed using NumPy: [0.49684053 0.49735889 0.49808612 ... 0.50148466 0.49997326 0.50404274]\n"
     ]
    }
   ],
   "execution_count": 4
  },
  {
   "metadata": {
    "ExecuteTime": {
     "end_time": "2025-07-22T11:53:46.325090Z",
     "start_time": "2025-07-22T11:53:46.251464Z"
    }
   },
   "cell_type": "code",
   "source": [
    "# Dask usage (parallel, can be larger-than-memory)\n",
    "import dask.array as da\n",
    "arr = da.random.random((10000, 10000), chunks=(1000, 1000))  # large array in chunks\n",
    "result = da.mean(arr, axis=0).compute()  # compute mean across chunks\n",
    "print(\"The result is computed using Dask:\", result)"
   ],
   "id": "initial_id",
   "outputs": [
    {
     "name": "stdout",
     "output_type": "stream",
     "text": [
      "The result is computed using Dask: [0.4949075  0.50122949 0.49872328 ... 0.49888296 0.49876881 0.49987501]\n"
     ]
    }
   ],
   "execution_count": 5
  },
  {
   "metadata": {},
   "cell_type": "code",
   "outputs": [],
   "execution_count": null,
   "source": "",
   "id": "49cbf262af069595"
  }
 ],
 "metadata": {
  "kernelspec": {
   "display_name": "Python 3",
   "language": "python",
   "name": "python3"
  },
  "language_info": {
   "codemirror_mode": {
    "name": "ipython",
    "version": 2
   },
   "file_extension": ".py",
   "mimetype": "text/x-python",
   "name": "python",
   "nbconvert_exporter": "python",
   "pygments_lexer": "ipython2",
   "version": "2.7.6"
  }
 },
 "nbformat": 4,
 "nbformat_minor": 5
}

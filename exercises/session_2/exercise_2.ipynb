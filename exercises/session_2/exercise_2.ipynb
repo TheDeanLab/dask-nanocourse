{
 "cells": [
  {
   "metadata": {},
   "cell_type": "markdown",
   "source": "## Exercise 2: Working with Zarr Arrays in Dask",
   "id": "53a77afe56d4295"
  },
  {
   "metadata": {
    "ExecuteTime": {
     "end_time": "2025-07-22T17:16:15.514402Z",
     "start_time": "2025-07-22T17:16:15.465588Z"
    }
   },
   "cell_type": "code",
   "source": [
    "import dask.array as da\n",
    "import os\n",
    "\n",
    "data_path = r'/Volumes/archive/bioinformatics/Danuser_lab/Dean/Derek/TMA-CRC-Fullpanel/TMA Project/Registration/all_channels.zarr/'\n",
    "os.listdir(data_path)"
   ],
   "id": "b731fc7c0aca2107",
   "outputs": [
    {
     "data": {
      "text/plain": [
       "['._.DS_Store', '.zattrs', 'OME', '.DS_Store', '0', '.zgroup']"
      ]
     },
     "execution_count": 29,
     "metadata": {},
     "output_type": "execute_result"
    }
   ],
   "execution_count": 29
  },
  {
   "metadata": {
    "ExecuteTime": {
     "end_time": "2025-07-22T15:59:59.303403Z",
     "start_time": "2025-07-22T15:59:59.215148Z"
    }
   },
   "cell_type": "code",
   "source": [
    "import zarr\n",
    "\n",
    "# Open as zarr group to inspect structure\n",
    "zarr_group = zarr.open(data_path, mode='r')\n",
    "print(\"Top level components:\", list(zarr_group.keys()))\n",
    "\n",
    "# Check what's inside the '0' component\n",
    "if '0' in zarr_group:\n",
    "    level_0 = zarr_group['0']\n",
    "    print(\"Level 0 type:\", type(level_0))\n",
    "    if hasattr(level_0, 'keys'):\n",
    "        print(\"Level 0 contents:\", list(level_0.keys()))\n",
    "    else:\n",
    "        print(\"Level 0 is an array with shape:\", level_0.shape)\n",
    "\n",
    "arr = da.from_zarr(data_path, component='0/0')\n",
    "print(\"Data array created from Zarr component '0/0'\")"
   ],
   "id": "a5337832a19c4ab1",
   "outputs": [
    {
     "name": "stdout",
     "output_type": "stream",
     "text": [
      "Top level components: ['OME', '0']\n",
      "Level 0 type: <class 'zarr.core.group.Group'>\n",
      "Level 0 contents: ['7', '6', '3', '5', '2', '4', '1', '0', '8']\n",
      "Data array created from Zarr component '0/0'\n"
     ]
    }
   ],
   "execution_count": 22
  },
  {
   "metadata": {
    "ExecuteTime": {
     "end_time": "2025-07-22T17:10:34.863065Z",
     "start_time": "2025-07-22T17:10:34.860853Z"
    }
   },
   "cell_type": "code",
   "source": [
    "# Inspecting Array Structure\n",
    "print(f\"Shape: {arr.shape}\")           # (1, 46, 1, 48960, 32640)\n",
    "print(f\"Chunks: {arr.chunks}\")         #\n",
    "print(f\"Dtype: {arr.dtype}\")           # uint16\n",
    "print(f\"Size: {arr.nbytes / 1e9:.2f} GB\")  # 147 GB\n",
    "\n",
    "t, c, z, y, x = arr.shape\n",
    "print(f\"Dimensions: Time: {t}, Channels: {c}, Z-slices: {z}, Height: {y}, Width: {x}\")"
   ],
   "id": "47997e8acb7812b8",
   "outputs": [
    {
     "name": "stdout",
     "output_type": "stream",
     "text": [
      "Shape: (1, 46, 1, 48960, 32640)\n",
      "Chunks: ((1,), (1, 1, 1, 1, 1, 1, 1, 1, 1, 1, 1, 1, 1, 1, 1, 1, 1, 1, 1, 1, 1, 1, 1, 1, 1, 1, 1, 1, 1, 1, 1, 1, 1, 1, 1, 1, 1, 1, 1, 1, 1, 1, 1, 1, 1, 1), (1,), (1024, 1024, 1024, 1024, 1024, 1024, 1024, 1024, 1024, 1024, 1024, 1024, 1024, 1024, 1024, 1024, 1024, 1024, 1024, 1024, 1024, 1024, 1024, 1024, 1024, 1024, 1024, 1024, 1024, 1024, 1024, 1024, 1024, 1024, 1024, 1024, 1024, 1024, 1024, 1024, 1024, 1024, 1024, 1024, 1024, 1024, 1024, 832), (1024, 1024, 1024, 1024, 1024, 1024, 1024, 1024, 1024, 1024, 1024, 1024, 1024, 1024, 1024, 1024, 1024, 1024, 1024, 1024, 1024, 1024, 1024, 1024, 1024, 1024, 1024, 1024, 1024, 1024, 1024, 896))\n",
      "Dtype: >u2\n",
      "Size: 147.02 GB\n",
      "Dimensions: Time: 1, Channels: 46, Z-slices: 1, Height: 48960, Width: 32640\n"
     ]
    }
   ],
   "execution_count": 28
  },
  {
   "metadata": {},
   "cell_type": "code",
   "outputs": [
    {
     "name": "stdout",
     "output_type": "stream",
     "text": [
      "Shape: (1, 46, 1, 48960, 32640)\n",
      "Chunks: ((1,), (1, 1, 1, 1, 1, 1, 1, 1, 1, 1, 1, 1, 1, 1, 1, 1, 1, 1, 1, 1, 1, 1, 1, 1, 1, 1, 1, 1, 1, 1, 1, 1, 1, 1, 1, 1, 1, 1, 1, 1, 1, 1, 1, 1, 1, 1), (1,), (1024, 1024, 1024, 1024, 1024, 1024, 1024, 1024, 1024, 1024, 1024, 1024, 1024, 1024, 1024, 1024, 1024, 1024, 1024, 1024, 1024, 1024, 1024, 1024, 1024, 1024, 1024, 1024, 1024, 1024, 1024, 1024, 1024, 1024, 1024, 1024, 1024, 1024, 1024, 1024, 1024, 1024, 1024, 1024, 1024, 1024, 1024, 832), (1024, 1024, 1024, 1024, 1024, 1024, 1024, 1024, 1024, 1024, 1024, 1024, 1024, 1024, 1024, 1024, 1024, 1024, 1024, 1024, 1024, 1024, 1024, 1024, 1024, 1024, 1024, 1024, 1024, 1024, 1024, 896))\n",
      "Dtype: >u2\n",
      "Size: 147.02 GB\n",
      "Dimensions: Time: 1, Channels: 46, Z-slices: 1, Height: 48960, Width: 32640\n"
     ]
    }
   ],
   "execution_count": 27,
   "source": [
    "# Rechunk for different access patterns\n",
    "spatial_chunks = arr.rechunk((1, 1, 256, 256, 256))      # Spatial operations"
   ],
   "id": "d63e2b3485039b2f"
  },
  {
   "metadata": {},
   "cell_type": "code",
   "source": "temporal_chunks = arr.rechunk((-1, c, z, 256, 256))   # Time-series analysis",
   "id": "e95e2ca5353661dd",
   "execution_count": null,
   "outputs": []
  },
  {
   "metadata": {},
   "cell_type": "code",
   "execution_count": null,
   "source": "balanced_chunks = arr.rechunk((t, 6, z, 256, 256))    # Balanced approach",
   "id": "34b0916763806a45",
   "outputs": []
  },
  {
   "metadata": {},
   "cell_type": "code",
   "outputs": [],
   "execution_count": 25,
   "source": [
    "# Save rechunked arrays to Zarr\n",
    "balanced_chunks.to_zarr('optimized.zarr')"
   ],
   "id": "d35b4167cc96834a"
  }
 ],
 "metadata": {
  "kernelspec": {
   "display_name": "Python 3",
   "language": "python",
   "name": "python3"
  },
  "language_info": {
   "codemirror_mode": {
    "name": "ipython",
    "version": 2
   },
   "file_extension": ".py",
   "mimetype": "text/x-python",
   "name": "python",
   "nbconvert_exporter": "python",
   "pygments_lexer": "ipython2",
   "version": "2.7.6"
  }
 },
 "nbformat": 4,
 "nbformat_minor": 5
}

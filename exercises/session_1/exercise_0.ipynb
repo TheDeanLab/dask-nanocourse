{
 "cells": [
  {
   "metadata": {},
   "cell_type": "markdown",
   "source": "## Minimal Code Changes: NumPy vs Dask Array",
   "id": "b466a9f74f7ea73a"
  },
  {
   "cell_type": "code",
   "id": "9cbe8cb966173088",
   "metadata": {
    "ExecuteTime": {
     "end_time": "2025-08-04T23:28:02.632117Z",
     "start_time": "2025-08-04T23:28:02.149664Z"
    }
   },
   "source": [
    "import numpy as np\n",
    "arr = np.random.rand(10000, 10000)  # large array\n",
    "result = np.mean(arr, axis=0)\n",
    "print(\"The result is computed using NumPy:\", result)"
   ],
   "outputs": [
    {
     "name": "stdout",
     "output_type": "stream",
     "text": [
      "The result is computed using NumPy: [0.50211322 0.49770149 0.49577016 ... 0.49526753 0.4963616  0.49637195]\n"
     ]
    }
   ],
   "execution_count": 1
  },
  {
   "metadata": {
    "ExecuteTime": {
     "end_time": "2025-08-04T23:28:08.388389Z",
     "start_time": "2025-08-04T23:28:06.739676Z"
    }
   },
   "cell_type": "code",
   "source": [
    "# Dask usage (parallel, can be larger-than-memory)\n",
    "import dask.array as da\n",
    "arr = da.random.random((10000, 10000), chunks=(1000, 1000))  # large array in chunks\n",
    "result = da.mean(arr, axis=0).compute()  # compute mean across chunks\n",
    "print(\"The result is computed using Dask:\", result)"
   ],
   "id": "initial_id",
   "outputs": [
    {
     "name": "stdout",
     "output_type": "stream",
     "text": [
      "The result is computed using Dask: [0.49408096 0.50292418 0.50025705 ... 0.4998379  0.49857512 0.50399839]\n"
     ]
    }
   ],
   "execution_count": 2
  },
  {
   "metadata": {},
   "cell_type": "code",
   "outputs": [],
   "execution_count": null,
   "source": "",
   "id": "49cbf262af069595"
  }
 ],
 "metadata": {
  "kernelspec": {
   "display_name": "Python 3",
   "language": "python",
   "name": "python3"
  },
  "language_info": {
   "codemirror_mode": {
    "name": "ipython",
    "version": 2
   },
   "file_extension": ".py",
   "mimetype": "text/x-python",
   "name": "python",
   "nbconvert_exporter": "python",
   "pygments_lexer": "ipython2",
   "version": "2.7.6"
  }
 },
 "nbformat": 4,
 "nbformat_minor": 5
}

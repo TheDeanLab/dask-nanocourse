{
 "cells": [
  {
   "metadata": {},
   "cell_type": "markdown",
   "source": "## Minimal Code Changes: NumPy vs Dask Array",
   "id": "b466a9f74f7ea73a"
  },
  {
   "cell_type": "code",
   "id": "9cbe8cb966173088",
   "metadata": {
    "ExecuteTime": {
     "end_time": "2025-08-06T15:13:17.080014Z",
     "start_time": "2025-08-06T15:11:13.091515Z"
    }
   },
   "source": [
    "%%timeit\n",
    "import numpy as np\n",
    "arr = np.random.rand(10000, 10000)  # large array\n",
    "result = np.mean(arr, axis=0)\n",
    "print(\"The result is computed using NumPy:\", result)"
   ],
   "outputs": [],
   "execution_count": null
  },
  {
   "metadata": {
    "ExecuteTime": {
     "end_time": "2025-08-06T15:10:27.267616Z",
     "start_time": "2025-08-06T15:10:23.711175Z"
    }
   },
   "cell_type": "code",
   "source": [
    "%%timeit\n",
    "# Dask usage (parallel, can be larger-than-memory)\n",
    "import dask.array as da\n",
    "arr = da.random.random((10000, 10000), chunks=(1000, 1000))  # large array in chunks\n",
    "result = da.mean(arr, axis=0).compute()  # compute mean across chunks\n",
    "print(\"The result is computed using Dask:\", result)"
   ],
   "id": "initial_id",
   "outputs": [
    {
     "name": "stdout",
     "output_type": "stream",
     "text": [
      "The result is computed using Dask: [0.49876181 0.50153893 0.4992087  ... 0.49921469 0.50120042 0.50002496]\n",
      "The result is computed using Dask: [0.50569287 0.50616531 0.5029859  ... 0.50158496 0.50233125 0.50326091]\n",
      "The result is computed using Dask: [0.50114734 0.49958048 0.50149012 ... 0.49946927 0.49834182 0.49760883]\n",
      "The result is computed using Dask: [0.50128092 0.49624145 0.49980864 ... 0.49685648 0.4987161  0.50790778]\n",
      "The result is computed using Dask: [0.50466777 0.50358094 0.49548823 ... 0.50059527 0.49869161 0.50068251]\n",
      "The result is computed using Dask: [0.49633351 0.49640348 0.4978698  ... 0.50427808 0.49888101 0.49991991]\n",
      "The result is computed using Dask: [0.50052118 0.49548639 0.50633638 ... 0.50435728 0.49969985 0.50031496]\n",
      "The result is computed using Dask: [0.50044608 0.49815446 0.50115269 ... 0.49539685 0.49848254 0.4999235 ]\n",
      "The result is computed using Dask: [0.49566729 0.50061437 0.49920088 ... 0.49995596 0.50005911 0.50356423]\n",
      "The result is computed using Dask: [0.49845954 0.50269555 0.50029894 ... 0.49865266 0.49956765 0.5001476 ]\n",
      "The result is computed using Dask: [0.49759374 0.49818303 0.50077425 ... 0.5026471  0.49701512 0.5000245 ]\n",
      "The result is computed using Dask: [0.50200934 0.49730544 0.50239898 ... 0.50010949 0.50184139 0.50107221]\n",
      "The result is computed using Dask: [0.49844644 0.50144411 0.50070147 ... 0.4946008  0.50069085 0.49714686]\n",
      "The result is computed using Dask: [0.49717756 0.49675965 0.50133195 ... 0.50499277 0.49938466 0.50193973]\n",
      "The result is computed using Dask: [0.50034159 0.50218431 0.50164173 ... 0.50226236 0.50100288 0.49933386]\n",
      "The result is computed using Dask: [0.50075527 0.49606182 0.49531959 ... 0.49872375 0.49603992 0.50079485]\n",
      "The result is computed using Dask: [0.50335328 0.50047103 0.49904575 ... 0.50029146 0.50707891 0.50075529]\n",
      "The result is computed using Dask: [0.49693046 0.49864737 0.49950124 ... 0.49533353 0.49764924 0.50212028]\n",
      "The result is computed using Dask: [0.49754798 0.49823887 0.50104718 ... 0.50442212 0.50192922 0.503119  ]\n",
      "The result is computed using Dask: [0.49875523 0.50333658 0.49782384 ... 0.49904546 0.50157415 0.49789497]\n",
      "The result is computed using Dask: [0.5011711  0.50164446 0.49705737 ... 0.49764254 0.49731689 0.49964289]\n",
      "The result is computed using Dask: [0.50166064 0.50276796 0.49838183 ... 0.49697451 0.49612732 0.50124701]\n",
      "The result is computed using Dask: [0.50432523 0.50034099 0.50059282 ... 0.50105945 0.50408003 0.49530552]\n",
      "The result is computed using Dask: [0.50055571 0.49897643 0.50315192 ... 0.50209253 0.50189944 0.49717275]\n",
      "The result is computed using Dask: [0.50095806 0.49940426 0.50024092 ... 0.4988014  0.49808971 0.50363034]\n",
      "The result is computed using Dask: [0.50262154 0.50147641 0.50104412 ... 0.50191517 0.49514768 0.49816618]\n",
      "The result is computed using Dask: [0.50130645 0.49792466 0.49988125 ... 0.4921065  0.50331167 0.49924437]\n",
      "The result is computed using Dask: [0.50337989 0.49894373 0.49981732 ... 0.49763027 0.50136485 0.49905996]\n",
      "The result is computed using Dask: [0.50018538 0.49949702 0.49466508 ... 0.49974108 0.50074403 0.50141426]\n",
      "The result is computed using Dask: [0.50395991 0.49502083 0.50264865 ... 0.50383058 0.50464067 0.49722978]\n",
      "The result is computed using Dask: [0.5002193  0.5016512  0.50007031 ... 0.50263034 0.50325634 0.50067742]\n",
      "The result is computed using Dask: [0.50177308 0.4984147  0.49911221 ... 0.50438318 0.49556574 0.49804558]\n",
      "The result is computed using Dask: [0.50019391 0.50089339 0.497882   ... 0.50111264 0.50205096 0.5048662 ]\n",
      "The result is computed using Dask: [0.50330112 0.49658564 0.50162609 ... 0.49879235 0.49955085 0.50168032]\n",
      "The result is computed using Dask: [0.50181045 0.50321418 0.50119976 ... 0.49927157 0.49885104 0.49275156]\n",
      "The result is computed using Dask: [0.49915224 0.50119746 0.5033001  ... 0.50054471 0.49577277 0.49623687]\n",
      "The result is computed using Dask: [0.5037953  0.50126893 0.49807476 ... 0.49796351 0.5055498  0.49868525]\n",
      "The result is computed using Dask: [0.50304924 0.50004915 0.50044185 ... 0.50067959 0.4973966  0.50413929]\n",
      "The result is computed using Dask: [0.49824503 0.50420504 0.50172745 ... 0.50018712 0.49681626 0.49724932]\n",
      "The result is computed using Dask: [0.49920058 0.50179871 0.50059175 ... 0.50013352 0.49989695 0.49563   ]\n",
      "The result is computed using Dask: [0.49815552 0.49844523 0.49982026 ... 0.49965001 0.50156162 0.50722938]\n",
      "The result is computed using Dask: [0.50064944 0.49922205 0.50035571 ... 0.49815057 0.50180114 0.49910803]\n",
      "The result is computed using Dask: [0.49823386 0.50098084 0.50539666 ... 0.4985946  0.50038707 0.49694082]\n",
      "The result is computed using Dask: [0.50570281 0.50091908 0.5005351  ... 0.49681792 0.49500001 0.49630979]\n",
      "The result is computed using Dask: [0.50226205 0.49947576 0.5011377  ... 0.49944011 0.49971208 0.49923703]\n",
      "The result is computed using Dask: [0.50008525 0.49910264 0.49999472 ... 0.50085593 0.50273331 0.49934094]\n",
      "The result is computed using Dask: [0.50013346 0.50125533 0.50308793 ... 0.49697504 0.5035921  0.50230982]\n",
      "The result is computed using Dask: [0.49517373 0.49795861 0.50418819 ... 0.49997522 0.50106927 0.49652508]\n",
      "The result is computed using Dask: [0.50096126 0.50049164 0.49755789 ... 0.49920033 0.49350663 0.49854574]\n",
      "The result is computed using Dask: [0.49781424 0.50181255 0.49829801 ... 0.49973577 0.50027824 0.49739561]\n",
      "The result is computed using Dask: [0.4982742  0.50446873 0.50340591 ... 0.49867015 0.501173   0.5007889 ]\n",
      "The result is computed using Dask: [0.4966416  0.4985412  0.50009196 ... 0.50675237 0.49846479 0.49437984]\n",
      "The result is computed using Dask: [0.49635611 0.49987952 0.50260542 ... 0.49986612 0.49758023 0.5017656 ]\n",
      "The result is computed using Dask: [0.49740243 0.50414598 0.50681582 ... 0.49843225 0.50613408 0.50092966]\n",
      "The result is computed using Dask: [0.49996862 0.49980221 0.49414576 ... 0.49852526 0.50033721 0.50169901]\n",
      "The result is computed using Dask: [0.50738571 0.50296811 0.49508467 ... 0.50209978 0.5000657  0.50265625]\n",
      "The result is computed using Dask: [0.4986013  0.49419635 0.50258857 ... 0.4981277  0.49934421 0.50265884]\n",
      "The result is computed using Dask: [0.49787127 0.50050515 0.5015625  ... 0.49776117 0.49631979 0.49771288]\n",
      "The result is computed using Dask: [0.49640482 0.50234668 0.49979058 ... 0.50265734 0.50350815 0.49792386]\n",
      "The result is computed using Dask: [0.50066351 0.49979788 0.50443595 ... 0.49900718 0.49768686 0.50142776]\n",
      "The result is computed using Dask: [0.49982519 0.5020425  0.50127918 ... 0.49962118 0.49920152 0.49358024]\n",
      "The result is computed using Dask: [0.49683076 0.49971477 0.49913938 ... 0.49393046 0.5094569  0.49773507]\n",
      "The result is computed using Dask: [0.49858908 0.49978684 0.49809391 ... 0.50452635 0.50003774 0.49934568]\n",
      "The result is computed using Dask: [0.501456   0.49834881 0.50264873 ... 0.49871993 0.50488859 0.50185856]\n",
      "The result is computed using Dask: [0.50169454 0.50146332 0.49961323 ... 0.49697777 0.50249161 0.49452108]\n",
      "The result is computed using Dask: [0.49901467 0.50162287 0.49501202 ... 0.49909578 0.49885167 0.49856861]\n",
      "The result is computed using Dask: [0.50259322 0.49964037 0.50575437 ... 0.50125893 0.49962512 0.50142115]\n",
      "The result is computed using Dask: [0.49991731 0.49965153 0.50291314 ... 0.50321147 0.50152861 0.50133212]\n",
      "The result is computed using Dask: [0.50189587 0.49747007 0.50159798 ... 0.49849566 0.49998785 0.50153322]\n",
      "The result is computed using Dask: [0.49430858 0.50165551 0.4993619  ... 0.49747038 0.49698778 0.50078228]\n",
      "The result is computed using Dask: [0.49939324 0.50080947 0.49791953 ... 0.50186388 0.49385743 0.49926305]\n",
      "The result is computed using Dask: [0.49706912 0.49877369 0.50113927 ... 0.49835238 0.4997404  0.49647577]\n",
      "The result is computed using Dask: [0.4972247  0.50223933 0.49598028 ... 0.49695544 0.49792615 0.50093294]\n",
      "The result is computed using Dask: [0.5024776  0.4994659  0.49885983 ... 0.49732877 0.50420898 0.49751233]\n",
      "The result is computed using Dask: [0.50298206 0.50229201 0.5062135  ... 0.49977449 0.4992361  0.50220079]\n",
      "The result is computed using Dask: [0.50236767 0.49935404 0.49614554 ... 0.5031177  0.49882149 0.49643977]\n",
      "The result is computed using Dask: [0.50020695 0.50127823 0.50098938 ... 0.50022092 0.497601   0.50409458]\n",
      "The result is computed using Dask: [0.49973333 0.49844398 0.49346026 ... 0.50423118 0.49304991 0.50354334]\n",
      "The result is computed using Dask: [0.50110353 0.49735206 0.49876228 ... 0.50766164 0.50169411 0.50235254]\n",
      "The result is computed using Dask: [0.50057506 0.49965512 0.49715002 ... 0.50615345 0.50371607 0.4990221 ]\n",
      "The result is computed using Dask: [0.50150812 0.49696432 0.49991523 ... 0.49856452 0.50231213 0.50188847]\n",
      "43.5 ms ± 322 μs per loop (mean ± std. dev. of 7 runs, 10 loops each)\n"
     ]
    }
   ],
   "execution_count": 6
  },
  {
   "metadata": {
    "ExecuteTime": {
     "end_time": "2025-08-06T15:10:10.650265Z",
     "start_time": "2025-08-06T15:10:10.648380Z"
    }
   },
   "cell_type": "code",
   "source": "",
   "id": "49cbf262af069595",
   "outputs": [],
   "execution_count": null
  },
  {
   "metadata": {},
   "cell_type": "code",
   "outputs": [],
   "execution_count": null,
   "source": "",
   "id": "79e5ac6184953939"
  }
 ],
 "metadata": {
  "kernelspec": {
   "display_name": "Python 3",
   "language": "python",
   "name": "python3"
  },
  "language_info": {
   "codemirror_mode": {
    "name": "ipython",
    "version": 2
   },
   "file_extension": ".py",
   "mimetype": "text/x-python",
   "name": "python",
   "nbconvert_exporter": "python",
   "pygments_lexer": "ipython2",
   "version": "2.7.6"
  }
 },
 "nbformat": 4,
 "nbformat_minor": 5
}
